{
 "cells": [
  {
   "cell_type": "code",
   "execution_count": 34,
   "metadata": {
    "scrolled": false
   },
   "outputs": [
    {
     "data": {
      "text/plain": [
       "<QuerySet []>"
      ]
     },
     "execution_count": 34,
     "metadata": {},
     "output_type": "execute_result"
    }
   ],
   "source": [
    "from registries.models import RegistriesApplicationStatus\n",
    "RegistriesApplicationStatus.objects.all()"
   ]
  },
  {
   "cell_type": "code",
   "execution_count": 60,
   "metadata": {},
   "outputs": [
    {
     "name": "stdout",
     "output_type": "stream",
     "text": [
      "Bobby Driller : 8e139dd1-3a49-45ac-abba-bb83e108068c\n"
     ]
    }
   ],
   "source": [
    "from registries.models import Person\n",
    "#p = Person.objects.all()[0]\n",
    "p = Person.objects.get(first_name='Bobby')\n",
    "print('{0} : {0.person_guid}'.format(p))"
   ]
  },
  {
   "cell_type": "code",
   "execution_count": 50,
   "metadata": {},
   "outputs": [
    {
     "name": "stdout",
     "output_type": "stream",
     "text": [
      "Bobby Driller - Well Driller\n"
     ]
    }
   ],
   "source": [
    "from registries.models import Register\n",
    "register = Register.objects.get(person = p.person_guid)\n",
    "print(register)"
   ]
  },
  {
   "cell_type": "code",
   "execution_count": 106,
   "metadata": {},
   "outputs": [
    {
     "name": "stdout",
     "output_type": "stream",
     "text": [
      "Application is valid\n",
      "[{\"model\": \"registries.registriesapplication\", \"pk\": \"ee87c99d-86bc-4ac4-9c44-415c88eed2a8\", \"fields\": {\"create_user\": \"\", \"create_date\": \"2018-04-25T17:51:33.988Z\", \"update_user\": null, \"update_date\": \"2018-04-25T17:51:33.988Z\", \"registration\": \"b808912f-c84f-4f49-96b6-ae973ad2f8a7\", \"subactivity\": \"WATER\", \"file_no\": null, \"over19_ind\": true, \"registrar_notes\": null, \"reason_denied\": null, \"primary_certificate\": null, \"primary_certificate_no\": \"\"}}]\n"
     ]
    }
   ],
   "source": [
    "from registries.serializers import ApplicationAdminSerializer\n",
    "from django.core import serializers\n",
    "# extends AuditModelSerializer, which extends rest_framework.serializers.ModelSerializer\n",
    "# is for model RegistriesApplication (extends AuditModel, which extends django.db.models.Model)\n",
    "data = {\n",
    "    \"registration\": \"b808912f-c84f-4f49-96b6-ae973ad2f8a7\",\n",
    "    \"subactivity\": \"WATER\",\n",
    "}\n",
    "application = ApplicationAdminSerializer(data=data)\n",
    "if application.is_valid():\n",
    "    print('Application is valid')\n",
    "    saved = application.save()\n",
    "    print(serializers.serialize('json', [ saved, ]))\n",
    "else:\n",
    "    print('Application is invalid')\n"
   ]
  },
  {
   "cell_type": "code",
   "execution_count": 2,
   "metadata": {
    "scrolled": true
   },
   "outputs": [
    {
     "name": "stdout",
     "output_type": "stream",
     "text": [
      "application: d0c74656-d44b-4c91-b6ba-ff68525802fb, Water Well Driller ; status: [{\"model\": \"registries.registriesapplicationstatus\", \"pk\": \"d46c48e9-f677-4f2b-87c9-5ad430746015\", \"fields\": {\"create_user\": \"\", \"create_date\": \"2018-04-25T17:07:00.496Z\", \"update_user\": null, \"update_date\": \"2018-04-25T17:07:00.496Z\", \"application\": \"d0c74656-d44b-4c91-b6ba-ff68525802fb\", \"status\": \"P\", \"notified_date\": \"2018-04-25\", \"effective_date\": \"2018-04-25\", \"expired_date\": null}}]\n",
      "application: 378ebb35-ce8d-4232-8cf2-baa816bcdcbd, Water Well Driller ; status: [{\"model\": \"registries.registriesapplicationstatus\", \"pk\": \"330600dd-8ef7-424f-bbdf-ad5772859886\", \"fields\": {\"create_user\": \"\", \"create_date\": \"2018-04-25T17:09:53.134Z\", \"update_user\": null, \"update_date\": \"2018-04-25T17:09:53.134Z\", \"application\": \"378ebb35-ce8d-4232-8cf2-baa816bcdcbd\", \"status\": \"P\", \"notified_date\": \"2018-04-25\", \"effective_date\": \"2018-04-25\", \"expired_date\": null}}]\n",
      "application: ce6f2f77-a13d-4181-80d0-53d810184866, Water Well Driller ; status: [{\"model\": \"registries.registriesapplicationstatus\", \"pk\": \"a8b31694-895b-48ed-8200-1d9b8c91d058\", \"fields\": {\"create_user\": \"\", \"create_date\": \"2018-04-25T17:10:18.428Z\", \"update_user\": null, \"update_date\": \"2018-04-25T17:10:18.428Z\", \"application\": \"ce6f2f77-a13d-4181-80d0-53d810184866\", \"status\": \"P\", \"notified_date\": \"2018-04-25\", \"effective_date\": \"2018-04-25\", \"expired_date\": null}}]\n",
      "application: 374712d9-e499-4be2-a5ef-256ee7711360, Water Well Driller ; status: [{\"model\": \"registries.registriesapplicationstatus\", \"pk\": \"64d70bd3-06d1-44b4-a8e8-a6d732bc233e\", \"fields\": {\"create_user\": \"\", \"create_date\": \"2018-04-25T17:22:18.009Z\", \"update_user\": null, \"update_date\": \"2018-04-25T17:22:18.009Z\", \"application\": \"374712d9-e499-4be2-a5ef-256ee7711360\", \"status\": \"P\", \"notified_date\": \"2018-04-25\", \"effective_date\": \"2018-04-25\", \"expired_date\": null}}]\n",
      "application: f0317c5b-65dc-429a-9685-ea9e334558cb, Water Well Driller ; status: [{\"model\": \"registries.registriesapplicationstatus\", \"pk\": \"0f38b27e-ce0f-4a47-a30e-f6350f5b90f0\", \"fields\": {\"create_user\": \"\", \"create_date\": \"2018-04-25T17:22:59.513Z\", \"update_user\": null, \"update_date\": \"2018-04-25T17:22:59.513Z\", \"application\": \"f0317c5b-65dc-429a-9685-ea9e334558cb\", \"status\": \"P\", \"notified_date\": \"2018-04-25\", \"effective_date\": \"2018-04-25\", \"expired_date\": null}}]\n",
      "application: 3004277e-f283-492b-b998-ca215c1f13c4, Water Well Driller ; status: [{\"model\": \"registries.registriesapplicationstatus\", \"pk\": \"81f7c299-fe85-47c9-a921-bec8e53a92ad\", \"fields\": {\"create_user\": \"\", \"create_date\": \"2018-04-25T17:49:41.864Z\", \"update_user\": null, \"update_date\": \"2018-04-25T17:49:41.863Z\", \"application\": \"3004277e-f283-492b-b998-ca215c1f13c4\", \"status\": \"P\", \"notified_date\": \"2018-04-25\", \"effective_date\": \"2018-04-25\", \"expired_date\": null}}]\n",
      "application: 96c9b20d-72ee-4c53-afd7-61f821f32441, Water Well Driller ; status: [{\"model\": \"registries.registriesapplicationstatus\", \"pk\": \"e74f13b5-1392-40bf-a7f6-2bcec6d72631\", \"fields\": {\"create_user\": \"\", \"create_date\": \"2018-04-25T17:50:32.586Z\", \"update_user\": null, \"update_date\": \"2018-04-25T17:50:32.586Z\", \"application\": \"96c9b20d-72ee-4c53-afd7-61f821f32441\", \"status\": \"P\", \"notified_date\": \"2018-04-25\", \"effective_date\": \"2018-04-25\", \"expired_date\": null}}]\n",
      "application: 1aaeb3ae-7cda-417f-afdd-0e5d0e27d896, Water Well Driller ; status: [{\"model\": \"registries.registriesapplicationstatus\", \"pk\": \"21f73b37-92fc-440e-a506-a3542b3dd207\", \"fields\": {\"create_user\": \"\", \"create_date\": \"2018-04-25T20:37:36.890Z\", \"update_user\": null, \"update_date\": \"2018-04-25T20:37:36.890Z\", \"application\": \"1aaeb3ae-7cda-417f-afdd-0e5d0e27d896\", \"status\": \"P\", \"notified_date\": \"2018-04-25\", \"effective_date\": \"2018-04-25\", \"expired_date\": null}}]\n",
      "application: ee87c99d-86bc-4ac4-9c44-415c88eed2a8, Geotechnical/Environmental Driller ; status: [{\"model\": \"registries.registriesapplicationstatus\", \"pk\": \"85b72aeb-e619-4d58-928c-d38a6a55a24e\", \"fields\": {\"create_user\": \"\", \"create_date\": \"2018-04-25T17:51:33.996Z\", \"update_user\": null, \"update_date\": \"2018-04-25T17:51:33.996Z\", \"application\": \"ee87c99d-86bc-4ac4-9c44-415c88eed2a8\", \"status\": \"P\", \"notified_date\": \"2018-04-25\", \"effective_date\": \"2018-04-25\", \"expired_date\": null}}]\n",
      "application: 57a8cbcd-f52c-4da4-9d46-67d19d3ea447, Water Well Driller ; status: [{\"model\": \"registries.registriesapplicationstatus\", \"pk\": \"d1c30f0e-3253-4dd8-9c04-f2bc25a8742f\", \"fields\": {\"create_user\": \"\", \"create_date\": \"2018-04-25T20:29:01.653Z\", \"update_user\": null, \"update_date\": \"2018-04-25T20:29:01.653Z\", \"application\": \"57a8cbcd-f52c-4da4-9d46-67d19d3ea447\", \"status\": \"P\", \"notified_date\": \"2018-04-25\", \"effective_date\": \"2018-04-25\", \"expired_date\": null}}]\n",
      "application: 58659caa-3ba8-42c5-8794-137aea1a2880, Water Well Driller ; status: [{\"model\": \"registries.registriesapplicationstatus\", \"pk\": \"abc75bab-c7b4-4661-a491-c5cb9cbaec03\", \"fields\": {\"create_user\": \"\", \"create_date\": \"2018-04-25T20:29:53.791Z\", \"update_user\": null, \"update_date\": \"2018-04-25T20:29:53.791Z\", \"application\": \"58659caa-3ba8-42c5-8794-137aea1a2880\", \"status\": \"P\", \"notified_date\": \"2018-04-25\", \"effective_date\": \"2018-04-25\", \"expired_date\": null}}]\n",
      "application: f475594f-99ce-461a-836f-54944c102d2f, Water Well Driller ; status: [{\"model\": \"registries.registriesapplicationstatus\", \"pk\": \"51d9a376-06a3-402b-951d-329f1038403c\", \"fields\": {\"create_user\": \"\", \"create_date\": \"2018-04-25T20:31:11.409Z\", \"update_user\": null, \"update_date\": \"2018-04-25T20:31:11.409Z\", \"application\": \"f475594f-99ce-461a-836f-54944c102d2f\", \"status\": \"P\", \"notified_date\": \"2018-04-25\", \"effective_date\": \"2018-04-25\", \"expired_date\": null}}]\n",
      "application: efd202b4-4437-496b-935b-847697fb9218, Water Well Driller ; status: [{\"model\": \"registries.registriesapplicationstatus\", \"pk\": \"e2a04ea9-6650-4c47-8d4a-ead6a319a77a\", \"fields\": {\"create_user\": \"\", \"create_date\": \"2018-04-25T20:36:50.318Z\", \"update_user\": null, \"update_date\": \"2018-04-25T20:36:50.318Z\", \"application\": \"efd202b4-4437-496b-935b-847697fb9218\", \"status\": \"P\", \"notified_date\": \"2018-04-25\", \"effective_date\": \"2018-04-25\", \"expired_date\": null}}]\n"
     ]
    }
   ],
   "source": [
    "from registries.models import RegistriesApplication\n",
    "from registries.models import RegistriesApplicationStatus\n",
    "from django.core import serializers\n",
    "\n",
    "\n",
    "for application in RegistriesApplication.objects.all():\n",
    "    status = RegistriesApplicationStatus.objects.filter(application=application)\n",
    "    #print('\\napplication: {}'.format(serializers.serialize('json', [application,])))\n",
    "    print('application: {0.application_guid}, {0.subactivity} ; status: {1}'.format(application, serializers.serialize('json',status)))\n"
   ]
  },
  {
   "cell_type": "code",
   "execution_count": 11,
   "metadata": {},
   "outputs": [
    {
     "name": "stdout",
     "output_type": "stream",
     "text": [
      "application: [{\"model\": \"registries.registriesapplication\", \"pk\": \"ee87c99d-86bc-4ac4-9c44-415c88eed2a8\", \"fields\": {\"create_user\": \"\", \"create_date\": \"2018-04-25T17:51:33.988Z\", \"update_user\": null, \"update_date\": \"2018-04-25T19:50:55.751Z\", \"registration\": \"b808912f-c84f-4f49-96b6-ae973ad2f8a7\", \"subactivity\": \"GEOTECH\", \"file_no\": null, \"over19_ind\": true, \"registrar_notes\": null, \"reason_denied\": null, \"primary_certificate\": null, \"primary_certificate_no\": \"\"}}]\n",
      "\n",
      "application.status: [{\"model\": \"registries.registriesapplicationstatus\", \"pk\": \"85b72aeb-e619-4d58-928c-d38a6a55a24e\", \"fields\": {\"create_user\": \"\", \"create_date\": \"2018-04-25T17:51:33.996Z\", \"update_user\": null, \"update_date\": \"2018-04-25T17:51:33.996Z\", \"application\": \"ee87c99d-86bc-4ac4-9c44-415c88eed2a8\", \"status\": \"P\", \"notified_date\": \"2018-04-25\", \"effective_date\": \"2018-04-25\", \"expired_date\": null}}]\n"
     ]
    },
    {
     "data": {
      "text/plain": [
       "<RegistriesApplicationStatus: Bobby Driller - Well Driller : None - Pending - 2018-04-25 (exp None)>"
      ]
     },
     "execution_count": 11,
     "metadata": {},
     "output_type": "execute_result"
    }
   ],
   "source": [
    "from registries.models import RegistriesApplication\n",
    "from django.core import serializers\n",
    "\n",
    "application = RegistriesApplication.objects.get(application_guid='ee87c99d-86bc-4ac4-9c44-415c88eed2a8')\n",
    "\n",
    "\n",
    "print('application: {}'.format(serializers.serialize('json', [application,])))\n",
    "print('\\napplication.status: {}'.format(serializers.serialize('json', [application.current_status,])))\n",
    "application.current_status\n",
    "\n",
    "#status = RegistriesApplicationStatus.objects.get(application=application, expired_date=None)\n",
    "#print('\\nstatus: {}'.format(serializers.serialize('json', [status,])))\n",
    "\n",
    "#application.status.get(expired_date=None)\n",
    "#print('\\ncurrent status: {}'.format(serializers.serialize('json', [application.current_status,])))\n",
    "#print('\\ncurrent status code: {}'.format(application.current_status.pk))\n",
    "\n"
   ]
  },
  {
   "cell_type": "code",
   "execution_count": 1,
   "metadata": {},
   "outputs": [
    {
     "name": "stdout",
     "output_type": "stream",
     "text": [
      "\n",
      "instance.status_set: registries.RegistriesApplicationStatus.None\n",
      "\n",
      "status records: [{\"model\": \"registries.registriesapplicationstatus\", \"pk\": \"85b72aeb-e619-4d58-928c-d38a6a55a24e\", \"fields\": {\"create_user\": \"\", \"create_date\": \"2018-04-25T17:51:33.996Z\", \"update_user\": null, \"update_date\": \"2018-04-25T17:51:33.996Z\", \"application\": \"ee87c99d-86bc-4ac4-9c44-415c88eed2a8\", \"status\": \"P\", \"notified_date\": \"2018-04-25\", \"effective_date\": \"2018-04-25\", \"expired_date\": null}}]\n",
      "\n",
      "application data: {'create_user': '', 'create_date': datetime.datetime(2018, 4, 25, 17, 51, 33, 988604, tzinfo=<UTC>), 'update_user': None, 'update_date': datetime.datetime(2018, 4, 25, 19, 47, 31, 328677, tzinfo=<UTC>), 'application_guid': 'ee87c99d-86bc-4ac4-9c44-415c88eed2a8', 'registration': UUID('b808912f-c84f-4f49-96b6-ae973ad2f8a7'), 'file_no': None, 'over19_ind': True, 'registrar_notes': None, 'reason_denied': None, 'subactivity': 'GEOTECH', 'qualifications': [], 'status_set': [OrderedDict([('status', 'P'), ('description', 'Pending'), ('notified_date', '2018-04-25'), ('effective_date', '2018-04-25'), ('expired_date', None)])]}\n",
      "\n",
      "\n",
      "Application is valid, updating with OrderedDict([('registration', <Register: Bobby Driller - Well Driller>), ('subactivity', <SubactivityCode: Geotechnical/Environmental Driller>)])\n",
      "\n",
      "thing: Bobby Driller - Well Driller : None - Pending - 2018-04-25 (exp None)\n",
      "\n",
      "\n",
      "application: [{\"model\": \"registries.registriesapplication\", \"pk\": \"ee87c99d-86bc-4ac4-9c44-415c88eed2a8\", \"fields\": {\"create_user\": \"\", \"create_date\": \"2018-04-25T17:51:33.988Z\", \"update_user\": null, \"update_date\": \"2018-04-25T19:50:55.751Z\", \"registration\": \"b808912f-c84f-4f49-96b6-ae973ad2f8a7\", \"subactivity\": \"GEOTECH\", \"file_no\": null, \"over19_ind\": true, \"registrar_notes\": null, \"reason_denied\": null, \"primary_certificate\": null, \"primary_certificate_no\": \"\"}}]\n",
      "\n",
      "\n",
      "status: [{\"model\": \"registries.registriesapplicationstatus\", \"pk\": \"85b72aeb-e619-4d58-928c-d38a6a55a24e\", \"fields\": {\"create_user\": \"\", \"create_date\": \"2018-04-25T17:51:33.996Z\", \"update_user\": null, \"update_date\": \"2018-04-25T17:51:33.996Z\", \"application\": \"ee87c99d-86bc-4ac4-9c44-415c88eed2a8\", \"status\": \"P\", \"notified_date\": \"2018-04-25\", \"effective_date\": \"2018-04-25\", \"expired_date\": null}}]\n"
     ]
    }
   ],
   "source": [
    "from registries.serializers import ApplicationAdminSerializer\n",
    "from registries.models import RegistriesApplication\n",
    "from django.core import serializers\n",
    "from registries import serializers as moo \n",
    "\n",
    "# extends AuditModelSerializer, which extends rest_framework.serializers.ModelSerializer\n",
    "# is for model RegistriesApplication (extends AuditModel, which extends django.db.models.Model)\n",
    "data = {\n",
    "    \"registration\": \"2fffc9c7-9d37-4384-a952-51bada4cf103\",\n",
    "    \"subactivity\": \"GEOTECH\",\n",
    "    \"status_set\": [{\"status\": \"A\"}]\n",
    "}\n",
    "instance = RegistriesApplication.objects.get(application_guid='ee87c99d-86bc-4ac4-9c44-415c88eed2a8')\n",
    "\n",
    "print('\\ninstance.status_set: {}'.format(instance.status_set))\n",
    "status = RegistriesApplicationStatus.objects.filter(application=instance)\n",
    "print('\\nstatus records: {}'.format(serializers.serialize('json', status)))\n",
    "\n",
    "application = ApplicationAdminSerializer(instance, data=data)\n",
    "if application.is_valid():\n",
    "    print('\\napplication data: {}'.format(application.data))\n",
    "    print('\\n')\n",
    "    print('Application is valid, updating with {}'.format(application.validated_data))\n",
    "    application.update(instance, application.validated_data)\n",
    "    print('\\nthing: {}'.format(moo.thing))\n",
    "else:\n",
    "    print('Application is invalid')\n",
    "    \n",
    "instance = RegistriesApplication.objects.get(application_guid='ee87c99d-86bc-4ac4-9c44-415c88eed2a8')\n",
    "\n",
    "from django.core import serializers\n",
    "\n",
    "print('\\n')\n",
    "print('application: {}'.format(serializers.serialize('json', [ instance, ])))\n",
    "print('\\n')\n",
    "print('status: {}'.format(serializers.serialize('json', RegistriesApplicationStatus.objects.filter(application=instance))))"
   ]
  },
  {
   "cell_type": "code",
   "execution_count": null,
   "metadata": {},
   "outputs": [],
   "source": []
  },
  {
   "cell_type": "code",
   "execution_count": 126,
   "metadata": {},
   "outputs": [
    {
     "data": {
      "text/plain": [
       "<QuerySet [<ApplicationStatusCode: Pending>, <ApplicationStatusCode: Approved>, <ApplicationStatusCode: Not Approved>, <ApplicationStatusCode: Incomplete>]>"
      ]
     },
     "execution_count": 126,
     "metadata": {},
     "output_type": "execute_result"
    }
   ],
   "source": [
    "from registries.models import ApplicationStatusCode\n",
    "ApplicationStatusCode.objects.all()"
   ]
  },
  {
   "cell_type": "code",
   "execution_count": 81,
   "metadata": {},
   "outputs": [
    {
     "name": "stdout",
     "output_type": "stream",
     "text": [
      "ACTIVE Active 2 2018-04-18 None\n",
      "PENDING Pending 3 2018-04-24 None\n",
      "REMOVED Removed 4 2018-04-18 None\n"
     ]
    }
   ],
   "source": [
    "from registries.models import RegistriesStatusCode\n",
    "#RegistriesStatusCode.objects.create(registries_status_code='PENDING', description='Pending', display_order=3)\n",
    "for item in RegistriesStatusCode.objects.all():\n",
    "    print('{0.registries_status_code} {0.description} {0.display_order} {0.effective_date} {0.expired_date}'.format(item))"
   ]
  },
  {
   "cell_type": "code",
   "execution_count": 109,
   "metadata": {},
   "outputs": [
    {
     "name": "stdout",
     "output_type": "stream",
     "text": [
      "[{\"model\": \"registries.subactivitycode\", \"pk\": \"WATER\", \"fields\": {\"create_user\": \"DATALOAD_USER\", \"create_date\": \"2018-01-01T08:00:00Z\", \"update_user\": \"DATALOAD_USER\", \"update_date\": \"2018-01-01T08:00:00Z\", \"registries_activity\": \"DRILL\", \"description\": \"Water Well Driller\", \"display_order\": 2, \"effective_date\": \"2018-01-01\", \"expired_date\": null}}, {\"model\": \"registries.subactivitycode\", \"pk\": \"GEOTECH\", \"fields\": {\"create_user\": \"DATALOAD_USER\", \"create_date\": \"2018-01-01T08:00:00Z\", \"update_user\": \"DATALOAD_USER\", \"update_date\": \"2018-01-01T08:00:00Z\", \"registries_activity\": \"DRILL\", \"description\": \"Geotechnical/Environmental Driller\", \"display_order\": 4, \"effective_date\": \"2018-01-01\", \"expired_date\": null}}, {\"model\": \"registries.subactivitycode\", \"pk\": \"GEOXCHG\", \"fields\": {\"create_user\": \"DATALOAD_USER\", \"create_date\": \"2018-01-01T08:00:00Z\", \"update_user\": \"DATALOAD_USER\", \"update_date\": \"2018-01-01T08:00:00Z\", \"registries_activity\": \"DRILL\", \"description\": \"Geoexchange Driller\", \"display_order\": 6, \"effective_date\": \"2018-01-01\", \"expired_date\": null}}, {\"model\": \"registries.subactivitycode\", \"pk\": \"PUMPINST\", \"fields\": {\"create_user\": \"DATALOAD_USER\", \"create_date\": \"2018-01-01T08:00:00Z\", \"update_user\": \"DATALOAD_USER\", \"update_date\": \"2018-01-01T08:00:00Z\", \"registries_activity\": \"PUMP\", \"description\": \"Pump Installer\", \"display_order\": 8, \"effective_date\": \"2018-01-01\", \"expired_date\": null}}, {\"model\": \"registries.subactivitycode\", \"pk\": \"PHASE2\", \"fields\": {\"create_user\": \"DATALOAD_USER\", \"create_date\": \"2018-01-01T08:00:00Z\", \"update_user\": \"DATALOAD_USER\", \"update_date\": \"2018-01-01T08:00:00Z\", \"registries_activity\": \"DRILL\", \"description\": \"Grandparented up to Feb 29, 2016\", \"display_order\": 10, \"effective_date\": \"1970-01-01\", \"expired_date\": \"2018-04-01\"}}, {\"model\": \"registries.subactivitycode\", \"pk\": \"PHASE1\", \"fields\": {\"create_user\": \"DATALOAD_USER\", \"create_date\": \"2018-01-01T08:00:00Z\", \"update_user\": \"DATALOAD_USER\", \"update_date\": \"2018-01-01T08:00:00Z\", \"registries_activity\": \"DRILL\", \"description\": \"Grandparented up to Nov 2006\", \"display_order\": 10, \"effective_date\": \"1970-01-01\", \"expired_date\": \"2018-04-01\"}}]\n"
     ]
    }
   ],
   "source": [
    "from registries.models import SubactivityCode\n",
    "from django.core import serializers\n",
    "\n",
    "print(serializers.serialize('json', SubactivityCode.objects.all()))\n"
   ]
  },
  {
   "cell_type": "code",
   "execution_count": null,
   "metadata": {},
   "outputs": [],
   "source": [
    "RegistriesApplicationStatus.objects.filter(application=application)"
   ]
  }
 ],
 "metadata": {
  "kernelspec": {
   "display_name": "Django Shell-Plus",
   "language": "python",
   "name": "django_extensions"
  },
  "language_info": {
   "codemirror_mode": {
    "name": "ipython",
    "version": 3
   },
   "file_extension": ".py",
   "mimetype": "text/x-python",
   "name": "python",
   "nbconvert_exporter": "python",
   "pygments_lexer": "ipython3",
   "version": "3.6.4"
  }
 },
 "nbformat": 4,
 "nbformat_minor": 2
}
